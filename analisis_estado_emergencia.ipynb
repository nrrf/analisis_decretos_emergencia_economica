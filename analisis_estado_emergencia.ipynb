{
  "nbformat": 4,
  "nbformat_minor": 0,
  "metadata": {
    "colab": {
      "name": "analisis_estado_emergencia.ipynb",
      "provenance": []
    },
    "kernelspec": {
      "name": "python3",
      "display_name": "Python 3"
    },
    "language_info": {
      "name": "python"
    }
  },
  "cells": [
    {
      "cell_type": "markdown",
      "metadata": {
        "id": "o4plsJn56jzQ"
      },
      "source": [
        "# Decretos gubernamentales decretados en la emergencia economica del COVID-19"
      ]
    },
    {
      "cell_type": "code",
      "metadata": {
        "id": "zr_1mHqa6f6I"
      },
      "source": [
        "import pandas as pd \n",
        "import numpy as np \n",
        "import seaborn as sns \n",
        "import matplotlib.pyplot as plt"
      ],
      "execution_count": 2,
      "outputs": []
    },
    {
      "cell_type": "code",
      "metadata": {
        "colab": {
          "base_uri": "https://localhost:8080/",
          "height": 1000
        },
        "id": "MXSs-Q8O6y91",
        "outputId": "dcebbe12-6120-4d08-87a8-fbc2a5cce677"
      },
      "source": [
        "df = pd.read_csv(\"https://www.datos.gov.co/resource/2y49-6wik.csv\")\n",
        "df"
      ],
      "execution_count": 3,
      "outputs": [
        {
          "output_type": "execute_result",
          "data": {
            "text/html": [
              "<div>\n",
              "<style scoped>\n",
              "    .dataframe tbody tr th:only-of-type {\n",
              "        vertical-align: middle;\n",
              "    }\n",
              "\n",
              "    .dataframe tbody tr th {\n",
              "        vertical-align: top;\n",
              "    }\n",
              "\n",
              "    .dataframe thead th {\n",
              "        text-align: right;\n",
              "    }\n",
              "</style>\n",
              "<table border=\"1\" class=\"dataframe\">\n",
              "  <thead>\n",
              "    <tr style=\"text-align: right;\">\n",
              "      <th></th>\n",
              "      <th>expediente_tipo</th>\n",
              "      <th>expediente_numero</th>\n",
              "      <th>fecha_radicacion</th>\n",
              "      <th>decreto_legislativo</th>\n",
              "      <th>emergencia</th>\n",
              "      <th>sector</th>\n",
              "      <th>tema</th>\n",
              "      <th>articulos_por_decreto</th>\n",
              "      <th>sentencia</th>\n",
              "      <th>decision</th>\n",
              "      <th>articulos_exequibles</th>\n",
              "      <th>articulos_cond_expinex</th>\n",
              "      <th>articulos_inexequibles</th>\n",
              "      <th>comunicado_prensa</th>\n",
              "    </tr>\n",
              "  </thead>\n",
              "  <tbody>\n",
              "    <tr>\n",
              "      <th>0</th>\n",
              "      <td>RE</td>\n",
              "      <td>232</td>\n",
              "      <td>2020-03-18T00:00:00.000</td>\n",
              "      <td>DECRETO LEGISLATIVO 417 DE 2020</td>\n",
              "      <td>Primera declaratoria</td>\n",
              "      <td>Interior</td>\n",
              "      <td>Declara el Estado de Emergencia Económica, Soc...</td>\n",
              "      <td>4</td>\n",
              "      <td>C-145/20</td>\n",
              "      <td>Exequibilidad</td>\n",
              "      <td>4</td>\n",
              "      <td>0</td>\n",
              "      <td>0</td>\n",
              "      <td>21</td>\n",
              "    </tr>\n",
              "    <tr>\n",
              "      <th>1</th>\n",
              "      <td>RE</td>\n",
              "      <td>233</td>\n",
              "      <td>2020-03-24T00:00:00.000</td>\n",
              "      <td>DECRETO LEGISLATIVO 434 DE 2020</td>\n",
              "      <td>Primera declaratoria</td>\n",
              "      <td>Comercio, Industria y Turismo</td>\n",
              "      <td>Plazos especiales para renovación matrícula me...</td>\n",
              "      <td>6</td>\n",
              "      <td>C-152/20</td>\n",
              "      <td>Exequibilidad</td>\n",
              "      <td>6</td>\n",
              "      <td>0</td>\n",
              "      <td>0</td>\n",
              "      <td>22</td>\n",
              "    </tr>\n",
              "    <tr>\n",
              "      <th>2</th>\n",
              "      <td>RE</td>\n",
              "      <td>234</td>\n",
              "      <td>2020-03-24T00:00:00.000</td>\n",
              "      <td>DECRETO LEGISLATIVO 438 DE 2020</td>\n",
              "      <td>Primera declaratoria</td>\n",
              "      <td>Hacienda y Crédito Público</td>\n",
              "      <td>Exenciones transitorias del IVA para ciertos p...</td>\n",
              "      <td>5</td>\n",
              "      <td>C-159/20</td>\n",
              "      <td>Exequibilidad</td>\n",
              "      <td>5</td>\n",
              "      <td>0</td>\n",
              "      <td>0</td>\n",
              "      <td>23</td>\n",
              "    </tr>\n",
              "    <tr>\n",
              "      <th>3</th>\n",
              "      <td>RE</td>\n",
              "      <td>235</td>\n",
              "      <td>2020-03-24T00:00:00.000</td>\n",
              "      <td>DECRETO LEGISLATIVO 439 DE 2020</td>\n",
              "      <td>Primera declaratoria</td>\n",
              "      <td>Transporte</td>\n",
              "      <td>Suspensión desembarque con fines de ingreso o ...</td>\n",
              "      <td>7</td>\n",
              "      <td>C-157/20</td>\n",
              "      <td>Exequibilidad</td>\n",
              "      <td>7</td>\n",
              "      <td>0</td>\n",
              "      <td>0</td>\n",
              "      <td>23</td>\n",
              "    </tr>\n",
              "    <tr>\n",
              "      <th>4</th>\n",
              "      <td>RE</td>\n",
              "      <td>236</td>\n",
              "      <td>2020-03-24T00:00:00.000</td>\n",
              "      <td>DECRETO LEGISLATIVO 440 DE 2020</td>\n",
              "      <td>Primera declaratoria</td>\n",
              "      <td>Contratación Estatal</td>\n",
              "      <td>Medidas de urgencia en contratación estatal</td>\n",
              "      <td>11</td>\n",
              "      <td>C-162/20</td>\n",
              "      <td>Exequibilidad</td>\n",
              "      <td>11</td>\n",
              "      <td>0</td>\n",
              "      <td>0</td>\n",
              "      <td>23</td>\n",
              "    </tr>\n",
              "    <tr>\n",
              "      <th>...</th>\n",
              "      <td>...</td>\n",
              "      <td>...</td>\n",
              "      <td>...</td>\n",
              "      <td>...</td>\n",
              "      <td>...</td>\n",
              "      <td>...</td>\n",
              "      <td>...</td>\n",
              "      <td>...</td>\n",
              "      <td>...</td>\n",
              "      <td>...</td>\n",
              "      <td>...</td>\n",
              "      <td>...</td>\n",
              "      <td>...</td>\n",
              "      <td>...</td>\n",
              "    </tr>\n",
              "    <tr>\n",
              "      <th>110</th>\n",
              "      <td>RE</td>\n",
              "      <td>342</td>\n",
              "      <td>2020-06-05T00:00:00.000</td>\n",
              "      <td>DECRETO LEGISLATIVO 815 DE 2020</td>\n",
              "      <td>Segunda declaratoria</td>\n",
              "      <td>Hacienda y Crédito Público</td>\n",
              "      <td>Por el cual se modifica el Decreto Legislativo...</td>\n",
              "      <td>7</td>\n",
              "      <td>C-460/20</td>\n",
              "      <td>Exequibilidad parcial/condicionada</td>\n",
              "      <td>6</td>\n",
              "      <td>1</td>\n",
              "      <td>0</td>\n",
              "      <td>44</td>\n",
              "    </tr>\n",
              "    <tr>\n",
              "      <th>111</th>\n",
              "      <td>RE</td>\n",
              "      <td>343</td>\n",
              "      <td>2020-06-05T00:00:00.000</td>\n",
              "      <td>DECRETO LEGISLATIVO 816 DE 2020</td>\n",
              "      <td>Segunda declaratoria</td>\n",
              "      <td>Hacienda y Crédito Público</td>\n",
              "      <td>Por el cual se establecen normas relacionadas ...</td>\n",
              "      <td>3</td>\n",
              "      <td>C-406/20</td>\n",
              "      <td>Exequibilidad</td>\n",
              "      <td>3</td>\n",
              "      <td>0</td>\n",
              "      <td>0</td>\n",
              "      <td>39</td>\n",
              "    </tr>\n",
              "    <tr>\n",
              "      <th>112</th>\n",
              "      <td>RE</td>\n",
              "      <td>344</td>\n",
              "      <td>2020-06-05T00:00:00.000</td>\n",
              "      <td>DECRETO LEGISLATIVO 817 DE 2020</td>\n",
              "      <td>Segunda declaratoria</td>\n",
              "      <td>Hacienda y Crédito Público</td>\n",
              "      <td>Por el cual se establecen las condiciones espe...</td>\n",
              "      <td>4</td>\n",
              "      <td>C-331/20</td>\n",
              "      <td>Exequibilidad</td>\n",
              "      <td>4</td>\n",
              "      <td>0</td>\n",
              "      <td>0</td>\n",
              "      <td>34</td>\n",
              "    </tr>\n",
              "    <tr>\n",
              "      <th>113</th>\n",
              "      <td>RE</td>\n",
              "      <td>345</td>\n",
              "      <td>2020-06-05T00:00:00.000</td>\n",
              "      <td>DECRETO LEGISLATIVO 818 DE 2020</td>\n",
              "      <td>Segunda declaratoria</td>\n",
              "      <td>Cultura</td>\n",
              "      <td>Por el cual se adoptan medidas especiales para...</td>\n",
              "      <td>7</td>\n",
              "      <td>C-402/20</td>\n",
              "      <td>Exequibilidad</td>\n",
              "      <td>7</td>\n",
              "      <td>0</td>\n",
              "      <td>0</td>\n",
              "      <td>39</td>\n",
              "    </tr>\n",
              "    <tr>\n",
              "      <th>114</th>\n",
              "      <td>RE</td>\n",
              "      <td>346</td>\n",
              "      <td>2020-06-05T00:00:00.000</td>\n",
              "      <td>DECRETO LEGISLATIVO 819 DE 2020</td>\n",
              "      <td>Segunda declaratoria</td>\n",
              "      <td>Vivienda</td>\n",
              "      <td>Por el cual se adoptan medidas para el sector ...</td>\n",
              "      <td>11</td>\n",
              "      <td>C-310/20</td>\n",
              "      <td>Exequibilidad</td>\n",
              "      <td>11</td>\n",
              "      <td>0</td>\n",
              "      <td>0</td>\n",
              "      <td>33</td>\n",
              "    </tr>\n",
              "  </tbody>\n",
              "</table>\n",
              "<p>115 rows × 14 columns</p>\n",
              "</div>"
            ],
            "text/plain": [
              "    expediente_tipo  ...  comunicado_prensa\n",
              "0                RE  ...                 21\n",
              "1                RE  ...                 22\n",
              "2                RE  ...                 23\n",
              "3                RE  ...                 23\n",
              "4                RE  ...                 23\n",
              "..              ...  ...                ...\n",
              "110              RE  ...                 44\n",
              "111              RE  ...                 39\n",
              "112              RE  ...                 34\n",
              "113              RE  ...                 39\n",
              "114              RE  ...                 33\n",
              "\n",
              "[115 rows x 14 columns]"
            ]
          },
          "metadata": {
            "tags": []
          },
          "execution_count": 3
        }
      ]
    },
    {
      "cell_type": "code",
      "metadata": {
        "colab": {
          "base_uri": "https://localhost:8080/"
        },
        "id": "9Jf1_oLd689_",
        "outputId": "871a8074-ebef-4aba-abf6-f7ee3ae48749"
      },
      "source": [
        "df.columns"
      ],
      "execution_count": 4,
      "outputs": [
        {
          "output_type": "execute_result",
          "data": {
            "text/plain": [
              "Index(['expediente_tipo', 'expediente_numero', 'fecha_radicacion',\n",
              "       'decreto_legislativo', 'emergencia', 'sector', 'tema',\n",
              "       'articulos_por_decreto', 'sentencia', 'decision',\n",
              "       'articulos_exequibles', 'articulos_cond_expinex',\n",
              "       'articulos_inexequibles', 'comunicado_prensa'],\n",
              "      dtype='object')"
            ]
          },
          "metadata": {
            "tags": []
          },
          "execution_count": 4
        }
      ]
    },
    {
      "cell_type": "code",
      "metadata": {
        "colab": {
          "base_uri": "https://localhost:8080/"
        },
        "id": "kaQbQ8FD70fH",
        "outputId": "91031984-a42c-496b-b78a-e105bfd233ae"
      },
      "source": [
        "df.dtypes"
      ],
      "execution_count": 5,
      "outputs": [
        {
          "output_type": "execute_result",
          "data": {
            "text/plain": [
              "expediente_tipo           object\n",
              "expediente_numero          int64\n",
              "fecha_radicacion          object\n",
              "decreto_legislativo       object\n",
              "emergencia                object\n",
              "sector                    object\n",
              "tema                      object\n",
              "articulos_por_decreto      int64\n",
              "sentencia                 object\n",
              "decision                  object\n",
              "articulos_exequibles       int64\n",
              "articulos_cond_expinex     int64\n",
              "articulos_inexequibles     int64\n",
              "comunicado_prensa          int64\n",
              "dtype: object"
            ]
          },
          "metadata": {
            "tags": []
          },
          "execution_count": 5
        }
      ]
    },
    {
      "cell_type": "code",
      "metadata": {
        "id": "O8BNZWNz8f3S"
      },
      "source": [
        "#df[\"decreto numero\"] = df.decreto_legislativo.slice(start=20,stop=23)\n",
        "df['decreto_numero'] = df['decreto_legislativo'].str[20:23]"
      ],
      "execution_count": 6,
      "outputs": []
    },
    {
      "cell_type": "code",
      "metadata": {
        "colab": {
          "base_uri": "https://localhost:8080/"
        },
        "id": "qg_49gQU-VyX",
        "outputId": "fc7c25ab-f7f6-4d2a-c183-1d1c6251baec"
      },
      "source": [
        "df['decreto_numero']"
      ],
      "execution_count": 7,
      "outputs": [
        {
          "output_type": "execute_result",
          "data": {
            "text/plain": [
              "0      417\n",
              "1      434\n",
              "2      438\n",
              "3      439\n",
              "4      440\n",
              "      ... \n",
              "110    815\n",
              "111    816\n",
              "112    817\n",
              "113    818\n",
              "114    819\n",
              "Name: decreto_numero, Length: 115, dtype: object"
            ]
          },
          "metadata": {
            "tags": []
          },
          "execution_count": 7
        }
      ]
    },
    {
      "cell_type": "code",
      "metadata": {
        "id": "5fBvk0RR-jkI"
      },
      "source": [
        "df['decreto_numero']=df['decreto_numero'].astype(int)"
      ],
      "execution_count": 8,
      "outputs": []
    },
    {
      "cell_type": "code",
      "metadata": {
        "colab": {
          "base_uri": "https://localhost:8080/"
        },
        "id": "lsb-iW9T_nAv",
        "outputId": "ee09d438-6457-4767-eeb3-d1965aa0be96"
      },
      "source": [
        "df.dtypes"
      ],
      "execution_count": 9,
      "outputs": [
        {
          "output_type": "execute_result",
          "data": {
            "text/plain": [
              "expediente_tipo           object\n",
              "expediente_numero          int64\n",
              "fecha_radicacion          object\n",
              "decreto_legislativo       object\n",
              "emergencia                object\n",
              "sector                    object\n",
              "tema                      object\n",
              "articulos_por_decreto      int64\n",
              "sentencia                 object\n",
              "decision                  object\n",
              "articulos_exequibles       int64\n",
              "articulos_cond_expinex     int64\n",
              "articulos_inexequibles     int64\n",
              "comunicado_prensa          int64\n",
              "decreto_numero             int64\n",
              "dtype: object"
            ]
          },
          "metadata": {
            "tags": []
          },
          "execution_count": 9
        }
      ]
    },
    {
      "cell_type": "code",
      "metadata": {
        "id": "Pc4W00Jq-2eB"
      },
      "source": [
        "#lista_decretos = df['decreto_numero'].tolist()"
      ],
      "execution_count": 10,
      "outputs": []
    },
    {
      "cell_type": "code",
      "metadata": {
        "id": "OHp3j22Q_Wyr"
      },
      "source": [
        "#lista_decretos"
      ],
      "execution_count": null,
      "outputs": []
    },
    {
      "cell_type": "code",
      "metadata": {
        "id": "1-sRCnkj_7l9"
      },
      "source": [
        "df.set_index('decreto_numero', inplace=True)"
      ],
      "execution_count": 11,
      "outputs": []
    },
    {
      "cell_type": "code",
      "metadata": {
        "colab": {
          "base_uri": "https://localhost:8080/"
        },
        "id": "1ZOZx96ZAFYH",
        "outputId": "5cdf372a-bc3c-42a3-c63e-f68eab647d46"
      },
      "source": [
        "df.index"
      ],
      "execution_count": 12,
      "outputs": [
        {
          "output_type": "execute_result",
          "data": {
            "text/plain": [
              "Int64Index([417, 434, 438, 439, 440, 441, 444, 458, 460, 461,\n",
              "            ...\n",
              "            810, 811, 812, 813, 814, 815, 816, 817, 818, 819],\n",
              "           dtype='int64', name='decreto_numero', length=115)"
            ]
          },
          "metadata": {
            "tags": []
          },
          "execution_count": 12
        }
      ]
    },
    {
      "cell_type": "code",
      "metadata": {
        "id": "CHLC7-knAHkl"
      },
      "source": [
        "lista_sector = df.drop_duplicates(subset=\"sector\")[\"sector\"].tolist()"
      ],
      "execution_count": 13,
      "outputs": []
    },
    {
      "cell_type": "code",
      "metadata": {
        "colab": {
          "base_uri": "https://localhost:8080/"
        },
        "id": "N_kIN5y4MQrt",
        "outputId": "ed7d5797-79b8-43ca-f8b8-55b48b946e5c"
      },
      "source": [
        "len(lista_sector)"
      ],
      "execution_count": 14,
      "outputs": [
        {
          "output_type": "execute_result",
          "data": {
            "text/plain": [
              "16"
            ]
          },
          "metadata": {
            "tags": []
          },
          "execution_count": 14
        }
      ]
    },
    {
      "cell_type": "code",
      "metadata": {
        "id": "q0FFMk3OMXTa"
      },
      "source": [
        "def tabla_frecuencias_unico(dataframe, serie, lista): \n",
        "    '''\n",
        "    Dataframe tabla de frecuencia (no intervalo), con porcentaje y acumulado\n",
        "    '''\n",
        "    frecuencia=[] \n",
        "    indice=[]\n",
        "    for i in lista: \n",
        "        filtro = (df[serie]==i) \n",
        "        serie_filtro = df[serie][filtro]\n",
        "\n",
        "        indice.append(i)\n",
        "        frecuencia.append(len(serie_filtro))\n",
        "    tabla = pd.DataFrame(index = indice)\n",
        "    tabla[\"Frecuencias\"] = frecuencia\n",
        "    tabla[\"%\"] = round(tabla[\"Frecuencias\"]/tabla[\"Frecuencias\"].sum()*100,2)\n",
        "    return tabla"
      ],
      "execution_count": 16,
      "outputs": []
    },
    {
      "cell_type": "code",
      "metadata": {
        "colab": {
          "base_uri": "https://localhost:8080/",
          "height": 558
        },
        "id": "-ZAPSiIBMe2i",
        "outputId": "f954d26c-0fd4-47bb-8261-858a2022f92d"
      },
      "source": [
        "tabla = tabla_frecuencias_unico(df, \"sector\", lista_sector)\n",
        "tabla.index.name = \"sector\"\n",
        "'''\n",
        "tabla.loc['Total'] = [tabla[\"Frecuencias\"].sum(), tabla[\"%\"].sum()]\n",
        "tabla\n",
        "'''\n",
        "tabla.sort_values(by='%',ascending=False)"
      ],
      "execution_count": 17,
      "outputs": [
        {
          "output_type": "execute_result",
          "data": {
            "text/html": [
              "<div>\n",
              "<style scoped>\n",
              "    .dataframe tbody tr th:only-of-type {\n",
              "        vertical-align: middle;\n",
              "    }\n",
              "\n",
              "    .dataframe tbody tr th {\n",
              "        vertical-align: top;\n",
              "    }\n",
              "\n",
              "    .dataframe thead th {\n",
              "        text-align: right;\n",
              "    }\n",
              "</style>\n",
              "<table border=\"1\" class=\"dataframe\">\n",
              "  <thead>\n",
              "    <tr style=\"text-align: right;\">\n",
              "      <th></th>\n",
              "      <th>Frecuencias</th>\n",
              "      <th>%</th>\n",
              "    </tr>\n",
              "    <tr>\n",
              "      <th>sector</th>\n",
              "      <th></th>\n",
              "      <th></th>\n",
              "    </tr>\n",
              "  </thead>\n",
              "  <tbody>\n",
              "    <tr>\n",
              "      <th>Hacienda y Crédito Público</th>\n",
              "      <td>40</td>\n",
              "      <td>34.78</td>\n",
              "    </tr>\n",
              "    <tr>\n",
              "      <th>Trabajo y Seguridad Social</th>\n",
              "      <td>11</td>\n",
              "      <td>9.57</td>\n",
              "    </tr>\n",
              "    <tr>\n",
              "      <th>Salud y Protección Social</th>\n",
              "      <td>9</td>\n",
              "      <td>7.83</td>\n",
              "    </tr>\n",
              "    <tr>\n",
              "      <th>Justicia</th>\n",
              "      <td>8</td>\n",
              "      <td>6.96</td>\n",
              "    </tr>\n",
              "    <tr>\n",
              "      <th>Tecnologías De La Información y Comunicaciones</th>\n",
              "      <td>8</td>\n",
              "      <td>6.96</td>\n",
              "    </tr>\n",
              "    <tr>\n",
              "      <th>Comercio, Industria y Turismo</th>\n",
              "      <td>7</td>\n",
              "      <td>6.09</td>\n",
              "    </tr>\n",
              "    <tr>\n",
              "      <th>Educación</th>\n",
              "      <td>6</td>\n",
              "      <td>5.22</td>\n",
              "    </tr>\n",
              "    <tr>\n",
              "      <th>Transporte</th>\n",
              "      <td>5</td>\n",
              "      <td>4.35</td>\n",
              "    </tr>\n",
              "    <tr>\n",
              "      <th>Contratación Estatal</th>\n",
              "      <td>4</td>\n",
              "      <td>3.48</td>\n",
              "    </tr>\n",
              "    <tr>\n",
              "      <th>Servicios Públicos</th>\n",
              "      <td>4</td>\n",
              "      <td>3.48</td>\n",
              "    </tr>\n",
              "    <tr>\n",
              "      <th>Interior</th>\n",
              "      <td>3</td>\n",
              "      <td>2.61</td>\n",
              "    </tr>\n",
              "    <tr>\n",
              "      <th>Cultura</th>\n",
              "      <td>3</td>\n",
              "      <td>2.61</td>\n",
              "    </tr>\n",
              "    <tr>\n",
              "      <th>Agropecuario</th>\n",
              "      <td>2</td>\n",
              "      <td>1.74</td>\n",
              "    </tr>\n",
              "    <tr>\n",
              "      <th>Minas y Energía</th>\n",
              "      <td>2</td>\n",
              "      <td>1.74</td>\n",
              "    </tr>\n",
              "    <tr>\n",
              "      <th>Vivienda</th>\n",
              "      <td>2</td>\n",
              "      <td>1.74</td>\n",
              "    </tr>\n",
              "    <tr>\n",
              "      <th>Defensa</th>\n",
              "      <td>1</td>\n",
              "      <td>0.87</td>\n",
              "    </tr>\n",
              "  </tbody>\n",
              "</table>\n",
              "</div>"
            ],
            "text/plain": [
              "                                                Frecuencias      %\n",
              "sector                                                            \n",
              "Hacienda y Crédito Público                               40  34.78\n",
              "Trabajo y Seguridad Social                               11   9.57\n",
              "Salud y Protección Social                                 9   7.83\n",
              "Justicia                                                  8   6.96\n",
              "Tecnologías De La Información y Comunicaciones            8   6.96\n",
              "Comercio, Industria y Turismo                             7   6.09\n",
              "Educación                                                 6   5.22\n",
              "Transporte                                                5   4.35\n",
              "Contratación Estatal                                      4   3.48\n",
              "Servicios Públicos                                        4   3.48\n",
              "Interior                                                  3   2.61\n",
              "Cultura                                                   3   2.61\n",
              "Agropecuario                                              2   1.74\n",
              "Minas y Energía                                           2   1.74\n",
              "Vivienda                                                  2   1.74\n",
              "Defensa                                                   1   0.87"
            ]
          },
          "metadata": {
            "tags": []
          },
          "execution_count": 17
        }
      ]
    },
    {
      "cell_type": "code",
      "metadata": {
        "colab": {
          "base_uri": "https://localhost:8080/",
          "height": 312
        },
        "id": "dzekqbcbMqQy",
        "outputId": "72287174-5af5-4996-b745-2e1ccf12c242"
      },
      "source": [
        "plt.pie(tabla[\"%\"], labels=tabla.index, autopct='%1.1f%%',shadow=False)\n",
        "plt.title(\"Decretos por sector\")\n",
        "plt.legend(title=\"Sectores\", bbox_to_anchor=(1, 0, 2, 1))\n",
        "plt.show()"
      ],
      "execution_count": 18,
      "outputs": [
        {
          "output_type": "display_data",
          "data": {
            "image/png": "[encoded data removed]",
            "text/plain": [
              "<Figure size 432x288 with 1 Axes>"
            ]
          },
          "metadata": {
            "tags": []
          }
        }
      ]
    },
    {
      "cell_type": "markdown",
      "metadata": {
        "id": "jX1VDclY8ZtX"
      },
      "source": [
        "Ahora si vamos a decretos que esten directamente relacionados con el covid 19:"
      ]
    },
    {
      "cell_type": "code",
      "metadata": {
        "colab": {
          "base_uri": "https://localhost:8080/"
        },
        "id": "W8084nGV9u8W",
        "outputId": "96baaaa6-bf9a-4e58-d3e1-e3c2a7887105"
      },
      "source": [
        "lista_tema = df.drop_duplicates(subset=\"tema\")[\"tema\"].tolist()\n",
        "lista_tema"
      ],
      "execution_count": 19,
      "outputs": [
        {
          "output_type": "execute_result",
          "data": {
            "text/plain": [
              "['Declara el Estado de Emergencia Económica, Social y Ecológica en todo el territorio nacional por el término de 30 días',\n",
              " 'Plazos especiales para renovación matrícula mercantil, el RUNEOL y demás registros que integran el Registro Único Empresarial y Social RUES. Reuniones ordinarias asambleas y demás cuerpos colegiados',\n",
              " 'Exenciones transitorias del IVA para ciertos productos médicos y clínicos. Ampliación plazo actualización del Régimen Tributario Especial',\n",
              " 'Suspensión desembarque con fines de ingreso o conexión en territorio colombiano, de pasajeros procedentes del exterior por vía aérea',\n",
              " 'Medidas de urgencia en contratación estatal',\n",
              " 'Acceso a agua potable en situaciones de emergencia sanitaria. Reconexión servicio de agua a suscriptores residenciales suspendidos. Suspensión incrementos tarifarios. Uso de recursos del Sistema General de Participaciones',\n",
              " 'Creación del Fondo de Mitigación de Emergencias, FOME, para atender las necesidades de recursos destinados a la atención en salud, efectos adversos para la economía y mantener el crecimiento y el empleo en el marco del Estado de Emergencia.',\n",
              " 'Transferencias monetarias para beneficiarios de los Programas Familias en Acción, Protección Social al Adulto Mayor, Colombia Mayor y Jóvenes en Acción. Compensación IVA. Tratamiento información del DANE',\n",
              " 'Medidas para garantizar la prestación del servicio de las Comisarías de Familia',\n",
              " 'Por medio del cual se autoriza temporalmente a los gobernadores y alcaldes para la reorientación de rentas y la reducción de tarifas de impuestos territoriales, en el marco de la Emergencia Económica, Social y Ecológica declarada mediante el Decreto 417 de 2020',\n",
              " 'Por el cual se disponen medidas con el fin de atender la situación de emergencia económica, social y ecológica de la que trata el Decreto 417 de 2020.',\n",
              " 'Por el cual se dictan medidas de urgencia en materia de auxilio para beneficiarios del Instituto Colombiano de Crédito Educativo y Estudios Técnicos en el Exterior - ICETEX, dentro del Estado de Emergencia Económica, Social y Ecológica',\n",
              " 'Por el cual se autorizan nuevas operaciones a la Financiera de Desarrollo Territorial S,A - Findeter y el Banco de Comercio Exterior de Colombia S.A. - Bancoldex, en el marco de la Emergencia Económica, Social y Ecológica declarada mediante el Decreto 417 de 2020',\n",
              " 'Por el cual se dicta una medida para garantizar la continuidad de las funciones de la jurisdicción constitucional, en el marco de la Estado de Emergencia Económica, Social y Ecológica',\n",
              " 'Por el cual se dictan medidas que brindan herramientas a las entidades territoriales para garantizar la ejecución del Programa de Alimentación Escolar y la prestación del servicio público de educación preescolar, básica y media, dentro del Estado de Emergencia Económica, Social y Ecológica',\n",
              " 'Por el cual se dictan medidas especiales relacionadas con el sector Cultura, dentro del Estado de Emergencia Económica, Social y Ecológica',\n",
              " '\"Por el cual se dictan medidas tendientes a garantizar la prevención, diagnóstico y tratamiento del Covid-19 y se dictan otras disposiciones, dentro del Estado de Emergencia Económica, Social y Ecológica\"',\n",
              " 'Medidas para la prestación del servicio público de transporte y su infraestructura',\n",
              " 'Incentivo económico para los trabajadores y productores del campo. Garantía de abastecimiento de productos agropecuarios en todo el territorio nacional',\n",
              " 'Suspensión de términos en trámite de extradición durante el estado de emergencia, con algunas excepciones',\n",
              " 'Prórroga del servicio militar obligatorio por tres (3) meses más',\n",
              " 'Retiro de cesantía. Aviso disfrute de vacaciones. Recursos del Sistema de Riesgos Laborales para prevención y emergencias en atención por propagación del Covid19. Recursos de las Cajas de Compensación para beneficios a los trabajadores',\n",
              " 'Utilización de la modalidad del teletrabajo para la prestación de los servicios a cargo de los organismos y entidades que conforman las ramas de poder público en cualquier nivel territorial, órganos de control, órganos autónomos y particulares que cumplan funciones públicas',\n",
              " 'Fortalecimiento patrimonial del Grupo Bicentenario SAS, Fondo de Garantías Financieras, FOGAFIN,',\n",
              " 'Contratación estatal para adquirir en el mercado internacional dispositivos médicos y elementos de protección personal',\n",
              " 'Destinación de recursos de las Administradoras de Riesgos Laborales para promoción, prevención, atención de emergencias, compra de elementos de protección personal y diagnóstico de COVID-19',\n",
              " 'Control de precios de productos de primera necesidad. Prevención de la especulación, acaparamiento y usura',\n",
              " 'Autorización temporal a gobernadores y alcaldes para realizar movimientos presupuestales mientras esté vigente el Estado de emergencia económica, social y ecológica',\n",
              " 'Ciclo de proyectos de  inversiones públicas susceptibles de ser financiados con recursos del Sistema Nacional de Regalías',\n",
              " 'Porcentaje mínimo de programación de producción nacional en televisión y utilización por los operadores regionales para funcionamiento los recursos de fortalecimiento, durante el estado de emergencia',\n",
              " 'Pago diferido de los servicios públicos de energía eléctrica y gas combustible para usuarios de los estratos 1 y 2',\n",
              " 'Programa ingreso solidario a favor de personas y familias en situación de vulnerabilidad, no beneficiarias de otros programas de ayuda',\n",
              " 'Adición al Presupuesto General de la Nación para la vigencia fiscal 2020, de quince billones, cien mil millones de pesos',\n",
              " 'Adición al Presupuesto General de la Nación para la vigencia fiscal 2020, de tres billones, doscientos cincuenta mil millones de pesos',\n",
              " 'Pago diferido de los servicios de acueducto, alcantarillado a los usuarios residenciales de los estratos 1 y 2',\n",
              " 'Exenciones tributarias transitorias del gravamen de movimientos financieros (GMF). Donaciones que no se consideran venta',\n",
              " 'Exención de presentación del examen de Estado para el ingreso e pregrados en educación superior programado para el 15 de marzo de 2020 y eventualmente, el previsto para el 9 de agosto de 2020',\n",
              " 'Medidas para garantizar la continuidad del Programa de Alimentación Escolar y la prestación der servicio de educación',\n",
              " 'Procedimiento abreviado para devolución y compensación de saldos a favor de contribuyentes del Impuesto de Renta y del IVA',\n",
              " 'Medidas en materia de contratación estatal.',\n",
              " 'Medidas para el sector salud dirigidas a contener y mitigar la pandemia de Covid19 y garantizar la prestación de los servicios de salud',\n",
              " 'Medidas de bioseguridad para mitigar la propagación del Covid19 y realizar el adecuado manejo de esta pandemia',\n",
              " 'Medidas para ampliar el acceso a las telecomunicaciones en el marco de la emergencia económica, social y ecológica',\n",
              " 'Medidas en materia de contratación estatal para la adquisición en el mercado internacional de dispositivos médicos y elementos de protección personal, atendiendo criterios de inmediatez como consecuencia de las turbulencias del mercado global de bienes para mitigar la pandemia Coronavirus COVID-19',\n",
              " 'Adopción de medidas para suspender temporalmente el requisito de insinuación para algunas donaciones, en el marco de la emergencia económica, social y ecológica',\n",
              " 'Sustitución pena de prisión y la medida de aseguramiento de detención preventiva en establecimiento penitenciario y carcelario, por prisión y detención domiciliaria transitorias de personas mayor vulnerabilidad al Covid19. Medidas de prevención en situaciones de hacinamiento',\n",
              " 'Exención temporal de IVA a importación de ciertos elementos y mecanismos de prevención, protección y atención de la pandemia de COVID19',\n",
              " 'Adición de recursos provenientes del Fondo de Riesgos Laborales (FRL) al Fondo de Mitigación de Emergencias (FOME)',\n",
              " 'Transferencia económica no condicionada para adultos mayores no priorizados en el Programa Colombia Mayor. Transferencia al Fondo de Solidaridad de Fomento del Empleo y Protección al Cesante',\n",
              " 'Medidas para la prestación del servicio de televisión abierta radiodifundida',\n",
              " 'Declaratoria como servicios públicos esenciales los servicios de telecomunicaciones',\n",
              " 'Medidas transitorias en materia de turismo y registros sanitarios de las micro y pequeñas empresas',\n",
              " 'Medidas para disminuir temporalmente la cotización al Sistema General de Seguridad Social, proteger a los pensionados bajo la modalidad de retiro programado',\n",
              " 'Creación de una Subcuenta para la Mitigación de Emergencias -Covid19- en el Fondo Nacional de Gestión del Riesgo de Desastres',\n",
              " 'Medidas transitorias en materia de insolvencia en el marco de la emergencia económica, social y ecológica',\n",
              " 'Destinación transitoria de recursos del impuesto al consumo con destino a la cultura. Incentivos económicos a artistas, creadores y gestores culturales',\n",
              " 'Inversión obligatoria temporal en Títulos de Deuda Pública de los establecimientos de crédito',\n",
              " 'Suspensión temporal de obligaciones a cargo de los beneficiarios del Programa Familias en Acción. Prestación indefinida del servicio de Defensorías de Familia. Ampliación operativa instituciones de protección al menor y adopción',\n",
              " 'Suspensión de términos de prescripción y caducidad hasta el día en que el Consejo Superior de la Judicatura reanude los términos judiciales',\n",
              " 'Medidas de protección a los beneficiarios de BEPs relacionadas con el balance y portafolio de este servicio social complementario',\n",
              " 'Funciones jurisdiccionales a los procuradores judiciales de familia para conocer de los procesos de adopción que deben continuar su curso durante',\n",
              " 'Creación del impuesto solidario por el COVID19 con destinación específica a la clase media vulnerable y trabajadores informales, sobre salarios o contratos de prestación de servicios de 10 millones o más, a cargo de los servidores públicos y contratistas del Estado',\n",
              " 'Sinergias logísticas eficientes en el sector de transporte durante la emergencia sanitaria. Suspensión del ingreso al territorio colombiano',\n",
              " 'Apoyo económico excepcional para personas desmovilizadas que pertenecieron a grupos armados al margen de la ley que están en etapa de reincorporación',\n",
              " 'Adición al Presupuesto Nacional para el período fiscal 2020',\n",
              " 'Medidas tributarias relacionadas con el Fondo Agropecuario de Garantías',\n",
              " 'Medidas en materia minera y energética en el marco de la emergencia económica, social y ecológica',\n",
              " 'Medidas para mitigar los efectos económicos durante la pandemia Covid19 en el sector transporte e infraestructura',\n",
              " 'Medidas en el sector de juegos de suerte y azar para impedir la extensión de los efectos de la pandemia Covid19',\n",
              " 'Medidas transitorias en materia de propiedad horizontal y contratos de arrendamiento',\n",
              " 'Medidas en materia de los servicios públicos de acueducto, alcantarillado y aseo, en el marco del Estado de emergencia económica, social y ecológica',\n",
              " 'Autoriza una nueva operación a FINDETER',\n",
              " 'Por el cual se declara un estado de emergencia economica, social y ecologica en todo el territorio nacional',\n",
              " 'Por el cual se crea el Programa de apoyo al empleo formal -PAEF, en el marco del Estado de Emergencia Económica, Social y Ecológica',\n",
              " 'Por medio del cual se dictan medidas para garantizar la operación de los medios abiertos radiodifundidos y la televisión comunitaria en el marco del Estado de Emergencia Económica, Social y Ecológica en el territorio Nacional',\n",
              " 'Por el cual se entrega una transferencia monetaria no condicionada, adicional y extraordinaria en favor de los beneficios de los Programas de Familias en Acción , Protección Social al Adulto Mayor - Colombia Mayor y Jóvenes en Acción y se dictan otras disposiciones en el Marco del Estado de Emergencia Económica, Social y Ecológica.',\n",
              " 'Por el cual se dictan medidas relacionadas con el calendario académico para la prestación del servicio educativo, en el marco del Estado de Emergencia Económica, Social y Ecológica.',\n",
              " 'Por el cual se crea el Fondo Solidario para la Educación y se adoptan medidas para mitigar la deserción en el sector educativo provocada por el Coronavirus COVID-19, en el marco del Estado de Emergencia Económica, Social y Ecológica.',\n",
              " 'Por el cual se modifica el Decreto Legislativo 639 del 8 de mayo de 2020 y se disponen medidas sobre el programa de apoyo al empleo formal PAEF, en el marco del estado de emergencia económica, social y ecológica declarado por el decreto 637 de 2020',\n",
              " 'Por medio del cual se establecen medidas para la gestión tributaria, financiera y presupuestal de las entidades territoriales, en el marco de la emergencia económica, social y ecológica declarada mediante el Decreto 637 de 2020',\n",
              " 'Por el cual se establece la exención especial del impuesto sobre las ventas para el año 2020 y se dictan otras disposiciones con el propósito de promover la reactivación de la economía colombiana, en el marco del estado de emergencia económica, social y ecológica',\n",
              " 'Por el cual se adoptan medidas relacionadas con la aprobación de los planes de desarrollo territoriales para el periodo constitucional 2020 -2023, en el marco del estado de emergencia económica, social y ecológica',\n",
              " 'Por el cual se adoptan medidas tributarias transitorias en el marco del Estado de Emergencia Económica, Social y Ecológica, de conformidad con el Decreto 637 de 2020',\n",
              " 'Por el cual se adoptan medidas sobre la prestación del servicio público de transporte y su infraestructura, en el marco del Estado de Emergencia Económica, Social y Ecológica.',\n",
              " 'Por el cual se dispone una medida para garantizar el acceso a servicios de conectividad en el marco del Estado de Emergencia Económica, Social y Ecológica en todo el territorio nacional.',\n",
              " 'Por el cual se dictan medidas especiales en materia de procesos de insolvencia, con el fin de mitigar los efectos de la emergencia social, económica y ecológica en el sector empresarial.',\n",
              " 'Por el cual se modifica la fecha de presentación del marco fiscal de mediano plazo para la vigencia fiscal 2020, en el marco del Estado de Emergencia Económica, Social y Ecológica declarado por el Decreto 637 del 6 de mayo de 2020',\n",
              " 'Por el cual se adiciona el Presupuesto General de la Nación de la vigencia fiscal de 2020 y se efectúa su correspondiente liquidación en el marco de la Emergencia Económica, Social y Ecológica declarada mediante el Decreto 637 del 6 de mayo de 2020',\n",
              " 'Por medio del cual se adopta una medida de protección al cesante, se adoptan medidas alternativas respecto a la jornada de trabajo, se adopta una alternativa para el primer pago de la prima de servicios, se crea el programa de apoyo para el pago de la prima de servicios, y se crea el programa de auxilio a los trabajadores en suspensión contractual, en el marco de la Emergencia Económica, Social y Ecológica declarada mediante Decreto 637 de 2020',\n",
              " 'Por el cual se adoptan medidas tributarias transitorias en el marco del Estado de Emergencia Económica, Social y Ecológica de conformidad con el Decreto 637 del 6 de mayo de 2020.',\n",
              " 'Por el cual se adoptan medidas en el sector agropecuario para atenuar los efectos económicos derivados de la enfermedad Coronavirus COVID-19 en los trabajadores y productores agropecuarios, en el marco del Estado de Emergencia Económica, Social y Ecológica.',\n",
              " 'Por el cual se adoptan medidas transitorias en materia de arrendamiento de locales comerciales, en el marco del Estado de Emergencia, Económica, Social y Ecológica de que trata el Decreto 637 del 6 de mayo de 2020',\n",
              " 'Por el cual se adoptan medidas para el sector minero-energético en el marco del Estado de Emergencia Económica, Social y Ecológica ordenada mediante Decreto 637 del 6 de mayo de 2020.',\n",
              " 'Por el cual se adoptan medidas relacionadas con la suspensión del pago de la sobretasa del sector eléctrico en el marco del Estado de Emergencia Económica, Social y Ecológica declarada por medio del Decreto 637 del 6 de mayo de 2020.',\n",
              " 'Por el cual se adoptan medidas para el flujo de recursos en el Sistema General de Seguridad Social en Salud y mantener la afiliación al mismo de quienes han perdido la capacidad de pago, en el marco del Estado de Emergencia Económica, Social y Ecológica',\n",
              " 'Por medio del cual se crea el auxilio económico a la población cesante, en el marco del Estado de Emergencia Económica, Social y Ecológica',\n",
              " 'Por el cual se modifica el Decreto Legislativo 558 del 15 de abril de 2020 y se dictan otras disposiciones en el marco del Estado de Emergencia Económica, Social y Ecológica.',\n",
              " 'Por medio del cual se crea el Programa de Apoyo para el Pago de la Prima de Servicios -PAP para el Sector Agropecuario, en el marco de la Emergencia Sanitaria ocasionada por el Coronavirus COVID 19.',\n",
              " 'Por el cual se establecen medidas para la adecuación, ampliación o modificación de inmuebles destinados a centros transitorios de detención a cargo de los entes territoriales y se adoptan otras disposiciones en el marco del Estado de Emergencia Económica, Social y Ecológica,',\n",
              " 'Por medio del cual se crea un aporte económico temporal de apoyo a los trabajadores de las notarías del país en el marco del Estado de Emergencia Económica, Social y Ecológica',\n",
              " 'Por el cual se adoptan medidas para implementar las tecnologías de la información y las comunicaciones en las actuaciones judiciales, agilizar los procesos judiciales y flexibilizar la atención a los usuarios del servicio de justicia, en el marco del Estado de Emergencia Económica, Social y Ecológica.',\n",
              " 'Por el cual se adoptan medidas tributarias y de control cambiario transitorias en el marco del Estado de Emergencia Económica, Social y Ecológica declarada mediante el Decreto 637 del 6 de mayo de 2020',\n",
              " 'Por el cual se adoptan medidas en el sector juegos de suerte y azar, con el fin de incrementar los recursos los recursos para la salud e impedir la extensión de los efectos de la pandemia del nuevo Coronavirus COVID-19, en el Marco de la emergencia Económica, Social y ecológica declarada por medio del Decreto 637 del 6 de mayo del 2020',\n",
              " 'Por el cual se autoriza al Fondo de Sosteníbilidad Financiera del Sector Eléctrico (FONSE) a realizar operaciones de crédito público para garantizar los procesos de toma de posesión a cargo del Fondo Empresarial de la Superintendencia de Servicios Públicos Domiciliarios afectados por la emergencia sanitaria.',\n",
              " 'Por el cual se crea el patrimonio autónomo para el emprendimiento, la formalización y el fortalecimiento empresarial de las mujeres, con el fin de mitigar los efectos de la Emergencia Social, Económica y Ecológica.',\n",
              " 'Por el cual se establecen medidas relacionadas con la inversión y la enajenación de la participación accionaría del Estado, en el marco del Estado de Emergencia Económica, Social y Ecológica declarado por el Decreto 637 del 6 de mayo de 2020.',\n",
              " 'Por el cual se crea el Registro Social de Hogares y la Plataforma de Transferencias Monetarias y se dictan otras disposiciones para atender las necesidades de los hogares en situación de pobreza y vulnerabilidad económica en todo el territorio nacional dentro del Estado de Emergencia Económica, Social y Ecológica',\n",
              " 'Por el cual se modifica el Presupuesto General de la Nación de la vigencia fiscal de 2020 y se efectúa su correspondiente liquidación, en el marco de la Emergencia Económica, Social y Ecológica declarada mediante el Decreto 637 del 6 de mayo de 2020.',\n",
              " 'Por el cual se ordena la entrega de transferencias monetarias no condicionadas, adicionales y extraordinarias en favor de los beneficiarios de los programas Protección Social al Adulto Mayor -Colombia Mayor, Familias en Acción y Jóvenes en Acción y se dictan otras disposiciones en el marco del Estado de Emergencia Económica, Social y Ecológica declarado por el Decreto 637 de 2020.',\n",
              " 'Por el cual se modifica el Decreto Legislativo 639 de 2020 y se disponen medidas sobre el Programa de Apoyo al Empleo Formal -PAEF, en el marco del Estado de Emergencia Económica, Social y Ecológica declarado por el Decreto 637 del 6 de mayo de 2020.',\n",
              " 'Por el cual se establecen normas relacionadas con la administración del Fondo Nacional de Garantías S.A. -FNG, en el marco del Estado de Emergencia Económica, Social y Ecológica declarado por el Decreto 637 del 6 de mayo de 2020.',\n",
              " 'Por el cual se establecen las condiciones especiales para la emisión de valores en el segundo mercado por parte de empresas afectadas en el marco del Estado de Emergencia Económica, Social y Ecológica declarado por el Decreto 637 del 6 de mayo de 2020.',\n",
              " 'Por el cual se adoptan medidas especiales para la protección y mitigación del impacto del COVID-19 en el sector cultura, en el marco del Estado de Emergencia Económica Social y Ecológica, declarado mediante el Decreto 637 de 2020.',\n",
              " 'Por el cual se adoptan medidas para el sector de Vivienda, Ciudad y Territorio en el marco del Estado de Emergencia Económica, Social y Ecológica ordenada mediante Decreto 637 del 6 de mayo de 2020.']"
            ]
          },
          "metadata": {
            "tags": []
          },
          "execution_count": 19
        }
      ]
    },
    {
      "cell_type": "markdown",
      "metadata": {
        "id": "WVuKV1Nh-wO9"
      },
      "source": [
        "Vamos a ver de estos decretos, cuales estos estuvieron relacionados a la primera declaratoria o a la segunda: \n",
        "- \"En este sentido, la declaratoria de la primera emergencia económica estuvo vigente hasta el 17 de abril (se declaró el 17 de marzo mediante el decreto 417 de 2020); y, mediante el decreto 637 del 6 de mayo de 2020 se declaró, por segunda vez, el Estado de Emergencia Económica, Social y Ecológica en todo el territorio colombiano.\"\n"
      ]
    },
    {
      "cell_type": "code",
      "metadata": {
        "colab": {
          "base_uri": "https://localhost:8080/",
          "height": 354
        },
        "id": "UWF9_4zS_kZD",
        "outputId": "23d81e78-11f1-40e9-8a6f-042e01083aed"
      },
      "source": [
        "sns.countplot(df['emergencia'])"
      ],
      "execution_count": 28,
      "outputs": [
        {
          "output_type": "stream",
          "text": [
            "/usr/local/lib/python3.7/dist-packages/seaborn/_decorators.py:43: FutureWarning: Pass the following variable as a keyword arg: x. From version 0.12, the only valid positional argument will be `data`, and passing other arguments without an explicit keyword will result in an error or misinterpretation.\n",
            "  FutureWarning\n"
          ],
          "name": "stderr"
        },
        {
          "output_type": "execute_result",
          "data": {
            "text/plain": [
              "<matplotlib.axes._subplots.AxesSubplot at 0x7fd8e269e610>"
            ]
          },
          "metadata": {
            "tags": []
          },
          "execution_count": 28
        },
        {
          "output_type": "display_data",
          "data": {
            "image/png": "[encoded data removed]",
            "text/plain": [
              "<Figure size 432x288 with 1 Axes>"
            ]
          },
          "metadata": {
            "tags": [],
            "needs_background": "light"
          }
        }
      ]
    },
    {
      "cell_type": "code",
      "metadata": {
        "colab": {
          "base_uri": "https://localhost:8080/"
        },
        "id": "QO7ahrY8A8Xt",
        "outputId": "d68545d3-9c94-4cbf-a113-2c05b845e613"
      },
      "source": [
        "df.loc[552]"
      ],
      "execution_count": 36,
      "outputs": [
        {
          "output_type": "execute_result",
          "data": {
            "text/plain": [
              "expediente_tipo                                                          RE\n",
              "expediente_numero                                                       279\n",
              "fecha_radicacion                                    2020-04-16T00:00:00.000\n",
              "decreto_legislativo                         DECRETO LEGISLATIVO 552 DE 2020\n",
              "emergencia                                             Primera declaratoria\n",
              "sector                                           Hacienda y Crédito Público\n",
              "tema                      Adición de recursos provenientes del Fondo de ...\n",
              "articulos_por_decreto                                                     6\n",
              "sentencia                                                          C-240/20\n",
              "decision                                                      Exequibilidad\n",
              "articulos_exequibles                                                      6\n",
              "articulos_cond_expinex                                                    0\n",
              "articulos_inexequibles                                                    0\n",
              "comunicado_prensa                                                        28\n",
              "Name: 552, dtype: object"
            ]
          },
          "metadata": {
            "tags": []
          },
          "execution_count": 36
        }
      ]
    },
    {
      "cell_type": "code",
      "metadata": {
        "colab": {
          "base_uri": "https://localhost:8080/",
          "height": 35
        },
        "id": "Lte4GksiFhvg",
        "outputId": "fca9ca1b-13e4-432e-c928-291c87434262"
      },
      "source": [
        "df.loc[552]['tema']"
      ],
      "execution_count": 37,
      "outputs": [
        {
          "output_type": "execute_result",
          "data": {
            "application/vnd.google.colaboratory.intrinsic+json": {
              "type": "string"
            },
            "text/plain": [
              "'Adición de recursos provenientes del Fondo de Riesgos Laborales (FRL) al Fondo de Mitigación de Emergencias (FOME)'"
            ]
          },
          "metadata": {
            "tags": []
          },
          "execution_count": 37
        }
      ]
    },
    {
      "cell_type": "code",
      "metadata": {
        "colab": {
          "base_uri": "https://localhost:8080/"
        },
        "id": "Lh0oUPMX-9M5",
        "outputId": "7efb81d5-901b-4167-ce27-766a36cf35af"
      },
      "source": [
        "filtro = (df[\"emergencia\"]==\"Segunda declaratoria\") \n",
        "lista_tema_segunda = df.drop_duplicates(subset=\"tema\")[filtro][\"tema\"].tolist()\n",
        "lista_tema_segunda"
      ],
      "execution_count": 21,
      "outputs": [
        {
          "output_type": "stream",
          "text": [
            "/usr/local/lib/python3.7/dist-packages/ipykernel_launcher.py:2: UserWarning: Boolean Series key will be reindexed to match DataFrame index.\n",
            "  \n"
          ],
          "name": "stderr"
        },
        {
          "output_type": "execute_result",
          "data": {
            "text/plain": [
              "['Por el cual se declara un estado de emergencia economica, social y ecologica en todo el territorio nacional',\n",
              " 'Por el cual se crea el Programa de apoyo al empleo formal -PAEF, en el marco del Estado de Emergencia Económica, Social y Ecológica',\n",
              " 'Por medio del cual se dictan medidas para garantizar la operación de los medios abiertos radiodifundidos y la televisión comunitaria en el marco del Estado de Emergencia Económica, Social y Ecológica en el territorio Nacional',\n",
              " 'Por el cual se entrega una transferencia monetaria no condicionada, adicional y extraordinaria en favor de los beneficios de los Programas de Familias en Acción , Protección Social al Adulto Mayor - Colombia Mayor y Jóvenes en Acción y se dictan otras disposiciones en el Marco del Estado de Emergencia Económica, Social y Ecológica.',\n",
              " 'Por el cual se dictan medidas relacionadas con el calendario académico para la prestación del servicio educativo, en el marco del Estado de Emergencia Económica, Social y Ecológica.',\n",
              " 'Por el cual se crea el Fondo Solidario para la Educación y se adoptan medidas para mitigar la deserción en el sector educativo provocada por el Coronavirus COVID-19, en el marco del Estado de Emergencia Económica, Social y Ecológica.',\n",
              " 'Por el cual se modifica el Decreto Legislativo 639 del 8 de mayo de 2020 y se disponen medidas sobre el programa de apoyo al empleo formal PAEF, en el marco del estado de emergencia económica, social y ecológica declarado por el decreto 637 de 2020',\n",
              " 'Por medio del cual se establecen medidas para la gestión tributaria, financiera y presupuestal de las entidades territoriales, en el marco de la emergencia económica, social y ecológica declarada mediante el Decreto 637 de 2020',\n",
              " 'Por el cual se establece la exención especial del impuesto sobre las ventas para el año 2020 y se dictan otras disposiciones con el propósito de promover la reactivación de la economía colombiana, en el marco del estado de emergencia económica, social y ecológica',\n",
              " 'Por el cual se adoptan medidas relacionadas con la aprobación de los planes de desarrollo territoriales para el periodo constitucional 2020 -2023, en el marco del estado de emergencia económica, social y ecológica',\n",
              " 'Por el cual se adoptan medidas tributarias transitorias en el marco del Estado de Emergencia Económica, Social y Ecológica, de conformidad con el Decreto 637 de 2020',\n",
              " 'Por el cual se adoptan medidas sobre la prestación del servicio público de transporte y su infraestructura, en el marco del Estado de Emergencia Económica, Social y Ecológica.',\n",
              " 'Por el cual se dispone una medida para garantizar el acceso a servicios de conectividad en el marco del Estado de Emergencia Económica, Social y Ecológica en todo el territorio nacional.',\n",
              " 'Por el cual se dictan medidas especiales en materia de procesos de insolvencia, con el fin de mitigar los efectos de la emergencia social, económica y ecológica en el sector empresarial.',\n",
              " 'Por el cual se modifica la fecha de presentación del marco fiscal de mediano plazo para la vigencia fiscal 2020, en el marco del Estado de Emergencia Económica, Social y Ecológica declarado por el Decreto 637 del 6 de mayo de 2020',\n",
              " 'Por el cual se adiciona el Presupuesto General de la Nación de la vigencia fiscal de 2020 y se efectúa su correspondiente liquidación en el marco de la Emergencia Económica, Social y Ecológica declarada mediante el Decreto 637 del 6 de mayo de 2020',\n",
              " 'Por medio del cual se adopta una medida de protección al cesante, se adoptan medidas alternativas respecto a la jornada de trabajo, se adopta una alternativa para el primer pago de la prima de servicios, se crea el programa de apoyo para el pago de la prima de servicios, y se crea el programa de auxilio a los trabajadores en suspensión contractual, en el marco de la Emergencia Económica, Social y Ecológica declarada mediante Decreto 637 de 2020',\n",
              " 'Por el cual se adoptan medidas tributarias transitorias en el marco del Estado de Emergencia Económica, Social y Ecológica de conformidad con el Decreto 637 del 6 de mayo de 2020.',\n",
              " 'Por el cual se adoptan medidas en el sector agropecuario para atenuar los efectos económicos derivados de la enfermedad Coronavirus COVID-19 en los trabajadores y productores agropecuarios, en el marco del Estado de Emergencia Económica, Social y Ecológica.',\n",
              " 'Por el cual se adoptan medidas transitorias en materia de arrendamiento de locales comerciales, en el marco del Estado de Emergencia, Económica, Social y Ecológica de que trata el Decreto 637 del 6 de mayo de 2020',\n",
              " 'Por el cual se adoptan medidas para el sector minero-energético en el marco del Estado de Emergencia Económica, Social y Ecológica ordenada mediante Decreto 637 del 6 de mayo de 2020.',\n",
              " 'Por el cual se adoptan medidas relacionadas con la suspensión del pago de la sobretasa del sector eléctrico en el marco del Estado de Emergencia Económica, Social y Ecológica declarada por medio del Decreto 637 del 6 de mayo de 2020.',\n",
              " 'Por el cual se adoptan medidas para el flujo de recursos en el Sistema General de Seguridad Social en Salud y mantener la afiliación al mismo de quienes han perdido la capacidad de pago, en el marco del Estado de Emergencia Económica, Social y Ecológica',\n",
              " 'Por medio del cual se crea el auxilio económico a la población cesante, en el marco del Estado de Emergencia Económica, Social y Ecológica',\n",
              " 'Por el cual se modifica el Decreto Legislativo 558 del 15 de abril de 2020 y se dictan otras disposiciones en el marco del Estado de Emergencia Económica, Social y Ecológica.',\n",
              " 'Por medio del cual se crea el Programa de Apoyo para el Pago de la Prima de Servicios -PAP para el Sector Agropecuario, en el marco de la Emergencia Sanitaria ocasionada por el Coronavirus COVID 19.',\n",
              " 'Por el cual se establecen medidas para la adecuación, ampliación o modificación de inmuebles destinados a centros transitorios de detención a cargo de los entes territoriales y se adoptan otras disposiciones en el marco del Estado de Emergencia Económica, Social y Ecológica,',\n",
              " 'Por medio del cual se crea un aporte económico temporal de apoyo a los trabajadores de las notarías del país en el marco del Estado de Emergencia Económica, Social y Ecológica',\n",
              " 'Por el cual se adoptan medidas para implementar las tecnologías de la información y las comunicaciones en las actuaciones judiciales, agilizar los procesos judiciales y flexibilizar la atención a los usuarios del servicio de justicia, en el marco del Estado de Emergencia Económica, Social y Ecológica.',\n",
              " 'Por el cual se adoptan medidas tributarias y de control cambiario transitorias en el marco del Estado de Emergencia Económica, Social y Ecológica declarada mediante el Decreto 637 del 6 de mayo de 2020',\n",
              " 'Por el cual se adoptan medidas en el sector juegos de suerte y azar, con el fin de incrementar los recursos los recursos para la salud e impedir la extensión de los efectos de la pandemia del nuevo Coronavirus COVID-19, en el Marco de la emergencia Económica, Social y ecológica declarada por medio del Decreto 637 del 6 de mayo del 2020',\n",
              " 'Por el cual se autoriza al Fondo de Sosteníbilidad Financiera del Sector Eléctrico (FONSE) a realizar operaciones de crédito público para garantizar los procesos de toma de posesión a cargo del Fondo Empresarial de la Superintendencia de Servicios Públicos Domiciliarios afectados por la emergencia sanitaria.',\n",
              " 'Por el cual se crea el patrimonio autónomo para el emprendimiento, la formalización y el fortalecimiento empresarial de las mujeres, con el fin de mitigar los efectos de la Emergencia Social, Económica y Ecológica.',\n",
              " 'Por el cual se establecen medidas relacionadas con la inversión y la enajenación de la participación accionaría del Estado, en el marco del Estado de Emergencia Económica, Social y Ecológica declarado por el Decreto 637 del 6 de mayo de 2020.',\n",
              " 'Por el cual se crea el Registro Social de Hogares y la Plataforma de Transferencias Monetarias y se dictan otras disposiciones para atender las necesidades de los hogares en situación de pobreza y vulnerabilidad económica en todo el territorio nacional dentro del Estado de Emergencia Económica, Social y Ecológica',\n",
              " 'Por el cual se modifica el Presupuesto General de la Nación de la vigencia fiscal de 2020 y se efectúa su correspondiente liquidación, en el marco de la Emergencia Económica, Social y Ecológica declarada mediante el Decreto 637 del 6 de mayo de 2020.',\n",
              " 'Por el cual se ordena la entrega de transferencias monetarias no condicionadas, adicionales y extraordinarias en favor de los beneficiarios de los programas Protección Social al Adulto Mayor -Colombia Mayor, Familias en Acción y Jóvenes en Acción y se dictan otras disposiciones en el marco del Estado de Emergencia Económica, Social y Ecológica declarado por el Decreto 637 de 2020.',\n",
              " 'Por el cual se modifica el Decreto Legislativo 639 de 2020 y se disponen medidas sobre el Programa de Apoyo al Empleo Formal -PAEF, en el marco del Estado de Emergencia Económica, Social y Ecológica declarado por el Decreto 637 del 6 de mayo de 2020.',\n",
              " 'Por el cual se establecen normas relacionadas con la administración del Fondo Nacional de Garantías S.A. -FNG, en el marco del Estado de Emergencia Económica, Social y Ecológica declarado por el Decreto 637 del 6 de mayo de 2020.',\n",
              " 'Por el cual se establecen las condiciones especiales para la emisión de valores en el segundo mercado por parte de empresas afectadas en el marco del Estado de Emergencia Económica, Social y Ecológica declarado por el Decreto 637 del 6 de mayo de 2020.',\n",
              " 'Por el cual se adoptan medidas especiales para la protección y mitigación del impacto del COVID-19 en el sector cultura, en el marco del Estado de Emergencia Económica Social y Ecológica, declarado mediante el Decreto 637 de 2020.',\n",
              " 'Por el cual se adoptan medidas para el sector de Vivienda, Ciudad y Territorio en el marco del Estado de Emergencia Económica, Social y Ecológica ordenada mediante Decreto 637 del 6 de mayo de 2020.']"
            ]
          },
          "metadata": {
            "tags": []
          },
          "execution_count": 21
        }
      ]
    },
    {
      "cell_type": "code",
      "metadata": {
        "colab": {
          "base_uri": "https://localhost:8080/"
        },
        "id": "TAoquk0VAHHM",
        "outputId": "5f18e362-b086-4e8d-f37e-b23730ad45a0"
      },
      "source": [
        "filtro = (df[\"tema\"]==\"Por el cual se crea el Programa de apoyo al empleo formal -PAEF, en el marco del Estado de Emergencia Económica, Social y Ecológica\") \n",
        "table2 = table2[filtro]\n",
        "table2"
      ],
      "execution_count": 38,
      "outputs": [
        {
          "output_type": "execute_result",
          "data": {
            "text/plain": [
              "decreto_numero\n",
              "639    True\n",
              "Name: tema, dtype: bool"
            ]
          },
          "metadata": {
            "tags": []
          },
          "execution_count": 38
        }
      ]
    },
    {
      "cell_type": "code",
      "metadata": {
        "colab": {
          "base_uri": "https://localhost:8080/"
        },
        "id": "GokG-v8CLCPW",
        "outputId": "6b946bb3-941a-4872-b853-cd747b541659"
      },
      "source": [
        "df.loc[639]"
      ],
      "execution_count": 39,
      "outputs": [
        {
          "output_type": "execute_result",
          "data": {
            "text/plain": [
              "expediente_tipo                                                          RE\n",
              "expediente_numero                                                       306\n",
              "fecha_radicacion                                    2020-05-11T00:00:00.000\n",
              "decreto_legislativo                         DECRETO LEGISLATIVO 639 DE 2020\n",
              "emergencia                                             Segunda declaratoria\n",
              "sector                                           Hacienda y Crédito Público\n",
              "tema                      Por el cual se crea el Programa de apoyo al em...\n",
              "articulos_por_decreto                                                    13\n",
              "sentencia                                                          C-458/20\n",
              "decision                                 Exequibilidad parcial/condicionada\n",
              "articulos_exequibles                                                     12\n",
              "articulos_cond_expinex                                                    1\n",
              "articulos_inexequibles                                                    0\n",
              "comunicado_prensa                                                        44\n",
              "Name: 639, dtype: object"
            ]
          },
          "metadata": {
            "tags": []
          },
          "execution_count": 39
        }
      ]
    }
  ]
}